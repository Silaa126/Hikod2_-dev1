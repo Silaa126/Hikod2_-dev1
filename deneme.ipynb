{
 "cells": [
  {
   "cell_type": "code",
   "execution_count": null,
   "metadata": {
    "vscode": {
     "languageId": "plaintext"
    }
   },
   "outputs": [],
   "source": [
    "import pandas as pd\n",
    "import numpy as np\n",
    "import seaborn as sns\n",
    "import matplotlib.pyplot as plt\n",
    "\n",
    "df = pd.read_csv(\"StudentsPerformance.csv\")\n",
    "\n",
    "print(df)"
   ]
  },
  {
   "cell_type": "code",
   "execution_count": null,
   "metadata": {
    "vscode": {
     "languageId": "plaintext"
    }
   },
   "outputs": [],
   "source": [
    "group_category = df.groupby(\"gender\")[[\"math score\"]].mean().reset_index()\n",
    "\n",
    "plt.figure(figsize=(18,5))\n",
    "plt.bar(x = \"race\", height = \"math score\", data = df)\n",
    "plt.xticks(rotation=90)\n",
    "print(group_category)\n",
    "plt.show"
   ]
  }
 ],
 "metadata": {
  "language_info": {
   "name": "python"
  }
 },
 "nbformat": 4,
 "nbformat_minor": 2
}
